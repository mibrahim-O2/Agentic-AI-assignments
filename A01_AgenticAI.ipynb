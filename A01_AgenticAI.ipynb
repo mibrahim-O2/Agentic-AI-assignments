{
  "nbformat": 4,
  "nbformat_minor": 0,
  "metadata": {
    "colab": {
      "provenance": [],
      "authorship_tag": "ABX9TyOMSswsQ+EgC1SaKD+auHmv",
      "include_colab_link": true
    },
    "kernelspec": {
      "name": "python3",
      "display_name": "Python 3"
    },
    "language_info": {
      "name": "python"
    }
  },
  "cells": [
    {
      "cell_type": "markdown",
      "metadata": {
        "id": "view-in-github",
        "colab_type": "text"
      },
      "source": [
        "<a href=\"https://colab.research.google.com/github/mibrahim-O2/Agentic-AI-assignments/blob/main/A01_AgenticAI.ipynb\" target=\"_parent\"><img src=\"https://colab.research.google.com/assets/colab-badge.svg\" alt=\"Open In Colab\"/></a>"
      ]
    },
    {
      "cell_type": "markdown",
      "source": [
        "\n",
        "# Q1: Variables & Data Types\n",
        "1. Create the following variables:\n",
        "○ name → your full name\n",
        "○ age → your age\n",
        "○ is_student → a boolean value (True/False)\n",
        "2. Print all variables in one line.\n",
        "3. Print the data type of each variable using type().\n"
      ],
      "metadata": {
        "id": "BfltD1zOZOje"
      }
    },
    {
      "cell_type": "code",
      "execution_count": 3,
      "metadata": {
        "colab": {
          "base_uri": "https://localhost:8080/"
        },
        "id": "R417BtVuY4Cy",
        "outputId": "a8c37b9a-5840-4893-8dba-83f5bd0e17f0"
      },
      "outputs": [
        {
          "output_type": "stream",
          "name": "stdout",
          "text": [
            "Name :  Muhammad Ibrahim age :  23 Student :  True\n",
            "Type of name: <class 'str'>\n",
            "Type of age: <class 'int'>\n",
            "Type of is_student <class 'bool'>\n"
          ]
        }
      ],
      "source": [
        "name = \"Muhammad Ibrahim\"\n",
        "age = 23\n",
        "is_student = True\n",
        "print(\"Name : \",name,\"age : \",age,\"Student : \",is_student)\n",
        "\n",
        "print(\"Type of name:\",type(name))\n",
        "print(\"Type of age:\",type(age))\n",
        "print(\"Type of is_student\",type(is_student))\n"
      ]
    },
    {
      "cell_type": "markdown",
      "source": [
        "# Q2: Arithmetic Operators\n",
        "Let x = 20 and y = 6.\n",
        "\n",
        "Perform and print the results of:\n",
        "\n",
        "\n",
        "*   Addition\n",
        "*   Subtraction\n",
        "*   Multiplication\n",
        "*   Division\n",
        "*   Floor Division\n",
        "*   Modulus\n",
        "*   Exponent\n",
        "\n",
        "\n"
      ],
      "metadata": {
        "id": "M03V_bqTblah"
      }
    },
    {
      "cell_type": "code",
      "source": [
        "x = 20\n",
        "y = 6\n",
        "\n",
        "print(\"Addition:\", x + y)\n",
        "print(\"Subtraction:\", x - y)\n",
        "print(\"Multiplication:\", x * y)\n",
        "print(\"Division:\", x / y)\n",
        "print(\"Floor Division:\", x // y)\n",
        "print(\"Modulus:\", x % y)\n",
        "print(\"Exponent:\", x ** y)\n"
      ],
      "metadata": {
        "colab": {
          "base_uri": "https://localhost:8080/"
        },
        "id": "fSJOUw5CcraZ",
        "outputId": "f71502be-7631-48a2-d97b-2ff8f7601b55"
      },
      "execution_count": 4,
      "outputs": [
        {
          "output_type": "stream",
          "name": "stdout",
          "text": [
            "Addition: 26\n",
            "Subtraction: 14\n",
            "Multiplication: 120\n",
            "Division: 3.3333333333333335\n",
            "Floor Division: 3\n",
            "Modulus: 2\n",
            "Exponent: 64000000\n"
          ]
        }
      ]
    },
    {
      "cell_type": "markdown",
      "source": [
        "# Q3: Assignment Operators\n",
        "Let num = 10.\n",
        "1. Add 5 to num using the += operator.\n",
        "2. Multiply num by 2 using the *= operator.\n",
        "3. Subtract 4 from num using the -= operator.\n",
        "4. Print the final value of num.\n"
      ],
      "metadata": {
        "id": "0872oxdmdP5C"
      }
    },
    {
      "cell_type": "code",
      "source": [
        "num = 10\n",
        "\n",
        "num += 5   # Add 5 → num = 15\n",
        "num *= 2   # Multiply by 2 → num = 30\n",
        "num -= 4   # Subtract 4 → num = 26\n",
        "\n",
        "print(\"Final value of num:\", num)\n"
      ],
      "metadata": {
        "colab": {
          "base_uri": "https://localhost:8080/"
        },
        "id": "C_VrtgZMdYvo",
        "outputId": "68a9f08d-bc03-47cf-c2a4-6e4c20fa98e6"
      },
      "execution_count": 5,
      "outputs": [
        {
          "output_type": "stream",
          "name": "stdout",
          "text": [
            "Final value of num: 26\n"
          ]
        }
      ]
    },
    {
      "cell_type": "markdown",
      "source": [
        "# Q4: Comparison Operators\n",
        "Take a = 15 and b = 12.\n",
        "\n",
        "Check and print the results of the following comparisons:\n",
        "\n",
        "* a > b\n",
        "\n",
        "\n",
        "* a < b\n",
        "\n",
        "* a == b\n",
        "\n",
        "* a != b\n",
        "\n",
        "* a >= b\n",
        "\n",
        "* a <= b"
      ],
      "metadata": {
        "id": "KdABdxQmdsr4"
      }
    },
    {
      "cell_type": "code",
      "source": [
        "a = 15\n",
        "b = 12\n",
        "\n",
        "print(\"a > b :\", a > b)\n",
        "print(\"a < b :\", a < b)\n",
        "print(\"a == b:\", a == b)\n",
        "print(\"a != b:\", a != b)\n",
        "print(\"a >= b:\", a >= b)\n",
        "print(\"a <= b:\", a <= b)\n"
      ],
      "metadata": {
        "colab": {
          "base_uri": "https://localhost:8080/"
        },
        "id": "x6Csg0CKeK8h",
        "outputId": "41ab6007-0297-4537-ad17-6a787c6f0797"
      },
      "execution_count": 6,
      "outputs": [
        {
          "output_type": "stream",
          "name": "stdout",
          "text": [
            "a > b : True\n",
            "a < b : False\n",
            "a == b: False\n",
            "a != b: True\n",
            "a >= b: True\n",
            "a <= b: False\n"
          ]
        }
      ]
    },
    {
      "cell_type": "markdown",
      "source": [
        "# Q5: Logical Operators\n",
        "Let p = True and q = False.\n",
        "\n",
        "Check and print the result of:\n",
        "\n",
        "● p and q\n",
        "\n",
        "● p or q\n",
        "\n",
        "● not p\n",
        "\n",
        "● not q\n"
      ],
      "metadata": {
        "id": "Koui7sMne9Sv"
      }
    },
    {
      "cell_type": "code",
      "source": [
        "p = True\n",
        "q = False\n",
        "\n",
        "print(\"p and q:\", p and q)   # True AND False → False\n",
        "print(\"p or q :\", p or q)    # True OR False → True\n",
        "print(\"not p  :\", not p)     # NOT True → False\n",
        "print(\"not q  :\", not q)     # NOT False → True\n"
      ],
      "metadata": {
        "colab": {
          "base_uri": "https://localhost:8080/"
        },
        "id": "Xi2TaUzMfHgQ",
        "outputId": "3a933be4-656d-41c2-c127-4c7f31911033"
      },
      "execution_count": 7,
      "outputs": [
        {
          "output_type": "stream",
          "name": "stdout",
          "text": [
            "p and q: False\n",
            "p or q : True\n",
            "not p  : False\n",
            "not q  : True\n"
          ]
        }
      ]
    },
    {
      "cell_type": "markdown",
      "source": [
        "# Q6: Real-Life Example\n",
        "The price of one notebook is 80 rupees.\n",
        "\n",
        "● If you buy 7 notebooks, calculate the total price.\n",
        "\n",
        "● If you have 600 rupees, check (using comparison operator) whether your money is enough to buy them or not.\n",
        "\n",
        "● Print the result in a clear message.\n"
      ],
      "metadata": {
        "id": "N2U-LNJ0fU01"
      }
    },
    {
      "cell_type": "code",
      "source": [
        "price_per_notebook = 80\n",
        "notebooks = 7\n",
        "total_price = price_per_notebook * notebooks\n",
        "money = 600\n",
        "\n",
        "# Check directly with a conditional expression\n",
        "enough_money = money >= total_price\n",
        "\n",
        "print(\"Total Price:\", total_price)\n",
        "print(\"Enough money to buy?\", enough_money)\n"
      ],
      "metadata": {
        "colab": {
          "base_uri": "https://localhost:8080/"
        },
        "id": "FW3tLTfTfech",
        "outputId": "bd821105-96fa-4e8e-ed6d-1df829b4b9b6"
      },
      "execution_count": 8,
      "outputs": [
        {
          "output_type": "stream",
          "name": "stdout",
          "text": [
            "Total Price: 560\n",
            "Enough money to buy? True\n"
          ]
        }
      ]
    },
    {
      "cell_type": "markdown",
      "source": [
        "# Q7: Bonus (Optional)\n",
        "Take two numbers as input from the user.\n",
        "\n",
        "● Print their sum.\n",
        "\n",
        "● Print whether the first number is greater than the second number or not."
      ],
      "metadata": {
        "id": "BA1igfo2gKxG"
      }
    },
    {
      "cell_type": "code",
      "source": [
        "# Take input from user\n",
        "num1 = int(input(\"Enter first number: \"))\n",
        "num2 = int(input(\"Enter second number: \"))\n",
        "\n",
        "# Print their sum\n",
        "print(\"Sum:\", num1 + num2)\n",
        "\n",
        "# Print comparison result (True/False)\n",
        "print(\"Is the first number greater than the second?\", num1 > num2)\n"
      ],
      "metadata": {
        "colab": {
          "base_uri": "https://localhost:8080/"
        },
        "id": "iNpVRDswgW8E",
        "outputId": "ea41de21-92c9-4dff-c9c4-f5973086de76"
      },
      "execution_count": 9,
      "outputs": [
        {
          "output_type": "stream",
          "name": "stdout",
          "text": [
            "Enter first number: 20\n",
            "Enter second number: 12\n",
            "Sum: 32\n",
            "Is the first number greater than the second? True\n"
          ]
        }
      ]
    }
  ]
}